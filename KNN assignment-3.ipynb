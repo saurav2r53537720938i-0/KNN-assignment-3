{
 "cells": [
  {
   "cell_type": "code",
   "execution_count": 1,
   "id": "801ae37f-11ad-4772-88ba-1571b860e190",
   "metadata": {},
   "outputs": [
    {
     "ename": "SyntaxError",
     "evalue": "invalid syntax (594282034.py, line 1)",
     "output_type": "error",
     "traceback": [
      "\u001b[0;36m  Cell \u001b[0;32mIn[1], line 1\u001b[0;36m\u001b[0m\n\u001b[0;31m    from sklearn.datasets import\u001b[0m\n\u001b[0m                                ^\u001b[0m\n\u001b[0;31mSyntaxError\u001b[0m\u001b[0;31m:\u001b[0m invalid syntax\n"
     ]
    }
   ],
   "source": [
    "from sklearn.datasets import\n",
    "load_iris\n",
    "from sklearn.model_slection import\n",
    "train_test_split\n",
    "from sklearn.neighbours import\n",
    "KNeighborsClassifier\n",
    "from sklearn.metrics import\n",
    "accuracy_score\n",
    "# Load the iris datset\n",
    "iris = load_iris()\n",
    "x = iris.data\n",
    "y = iris.target\n",
    "# Split the dataset into traning and testing sets\n",
    "X_train.X_test,y_train,y_train=\n",
    "train_test_split(x,y,\n",
    "test_size=0.2,random_states=42\n",
    "# Intializes the KNN classfier\n",
    "                 knn=KNeighboursClassifier(n_neighbors=3)\n",
    "                 \n",
    "# Train the classfier\n",
    "knn=kneighbours classfier(n_neighbour=3)"
   ]
  },
  {
   "cell_type": "code",
   "execution_count": 2,
   "id": "26c74141-f44b-4394-8d7d-7bd228ea0d97",
   "metadata": {},
   "outputs": [
    {
     "ename": "SyntaxError",
     "evalue": "invalid syntax (3126241876.py, line 1)",
     "output_type": "error",
     "traceback": [
      "\u001b[0;36m  Cell \u001b[0;32mIn[2], line 1\u001b[0;36m\u001b[0m\n\u001b[0;31m    from sklearn .datasets import\u001b[0m\n\u001b[0m                                 ^\u001b[0m\n\u001b[0;31mSyntaxError\u001b[0m\u001b[0;31m:\u001b[0m invalid syntax\n"
     ]
    }
   ],
   "source": [
    "from sklearn .datasets import\n",
    "load_boston\n",
    "from sklearn.model_slection import\n",
    "train_test_slection import\n",
    "from sklearn.model_slection import\n",
    "from sklearn metrics import\n",
    "mean_squared_error\n",
    "# Load the Boston datsets\n",
    "boston = load_boston()\n",
    "x = boston.data\n",
    "y = boston.target\n",
    "\n",
    "# split the datasets into traning and testing sets\n",
    "x_train,x_test,y_train,y_test = train_size=o.2,random_states=42\n",
    "\n",
    "# Intilizes the KNN regressor\n",
    "Knn=  kNeigborsRegressor(n_neigbour=3)"
   ]
  },
  {
   "cell_type": "code",
   "execution_count": 3,
   "id": "b9235d96-a7ee-4270-b467-b9b0268f4901",
   "metadata": {},
   "outputs": [
    {
     "ename": "SyntaxError",
     "evalue": "invalid syntax (1886897.py, line 1)",
     "output_type": "error",
     "traceback": [
      "\u001b[0;36m  Cell \u001b[0;32mIn[3], line 1\u001b[0;36m\u001b[0m\n\u001b[0;31m    from sklearn.datsets import\u001b[0m\n\u001b[0m                               ^\u001b[0m\n\u001b[0;31mSyntaxError\u001b[0m\u001b[0;31m:\u001b[0m invalid syntax\n"
     ]
    }
   ],
   "source": [
    "from sklearn.datsets import\n",
    "load_iris\n",
    "from sklearn.model_slection import\n",
    "cross_val_score\n",
    "from sklearn.neighbour import\n",
    "KNeighborClassfier\n",
    "\n",
    "# Load the iris datsets\n",
    "iris = load_iris()\n",
    "x= iris.data\n",
    "y= iris.target\n",
    "\n",
    "# Define a range of K value to try\n",
    "k_values = list(range(1,31))\n",
    "\n",
    "#list to store the mean\n",
    "cross-validation score the mean\n",
    "cross-validation scores for each k\n",
    "cv_scores=[]\n",
    "\n",
    "# Perform 10-fold cross-validation for each k\n",
    "for k in k_values:\n",
    "KneighbhorsClassifier(n_neigbours=k)\n",
    "score = cross_val_score(knn,mean())\n",
    "\n",
    "# Find the optimal k Values with the hightest cross-validation score\n",
    "optimal_k = \n",
    "k_values[cv_score.index(max(cv_scores))]\n",
    "print(\"optimal k value:\",:optimal_k)"
   ]
  },
  {
   "cell_type": "code",
   "execution_count": 4,
   "id": "e69c66a9-e0a0-43a7-86af-1652110e82ec",
   "metadata": {},
   "outputs": [
    {
     "ename": "SyntaxError",
     "evalue": "invalid syntax (3954075595.py, line 1)",
     "output_type": "error",
     "traceback": [
      "\u001b[0;36m  Cell \u001b[0;32mIn[4], line 1\u001b[0;36m\u001b[0m\n\u001b[0;31m    from sklearn datsets import\u001b[0m\n\u001b[0m                 ^\u001b[0m\n\u001b[0;31mSyntaxError\u001b[0m\u001b[0;31m:\u001b[0m invalid syntax\n"
     ]
    }
   ],
   "source": [
    "from sklearn datsets import\n",
    "load_boston\n",
    "from sklearn.model_slection import\n",
    "train_test_split\n",
    "from sklearn.preprocessing import\n",
    "standardscaler\n",
    "from sklearn.neigbour import\n",
    "KneighbourRegressor\n",
    "from sklearn.metrics import\n",
    "mean_squared_error\n",
    "# Load the Boston Housing datsets\n",
    "boston = load_boston()\n",
    "x,y = boston.data,boston.target\n",
    "\n",
    "# Split the datsets into train and test sets"
   ]
  },
  {
   "cell_type": "code",
   "execution_count": 5,
   "id": "f38e0309-029d-4417-8781-ba1328d26c3b",
   "metadata": {},
   "outputs": [
    {
     "ename": "SyntaxError",
     "evalue": "invalid syntax (2945561710.py, line 1)",
     "output_type": "error",
     "traceback": [
      "\u001b[0;36m  Cell \u001b[0;32mIn[5], line 1\u001b[0;36m\u001b[0m\n\u001b[0;31m    from sklearn.datsets import\u001b[0m\n\u001b[0m                               ^\u001b[0m\n\u001b[0;31mSyntaxError\u001b[0m\u001b[0;31m:\u001b[0m invalid syntax\n"
     ]
    }
   ],
   "source": [
    "from sklearn.datsets import\n",
    "load_iris\n",
    "from sklearn.model_slection import\n",
    "train_test_split\n",
    "from sklearn.preprocessing import\n",
    "standardscaler\n",
    "from sklearn.neighbour import\n",
    "KNeighhborClassfier\n",
    "from sklearn.metrics import\n",
    "accuracy_score\n",
    "# Load the iris dataset\n",
    "iris = load_iris()\n",
    "x,y = iris.data,iris.target\n",
    "# Split the datsets into train and test sets\n",
    "x_"
   ]
  },
  {
   "cell_type": "code",
   "execution_count": 6,
   "id": "9fac8265-457f-41c4-8251-02521266d554",
   "metadata": {},
   "outputs": [
    {
     "ename": "SyntaxError",
     "evalue": "invalid syntax (4181450921.py, line 1)",
     "output_type": "error",
     "traceback": [
      "\u001b[0;36m  Cell \u001b[0;32mIn[6], line 1\u001b[0;36m\u001b[0m\n\u001b[0;31m    from sklearn.datsets import\u001b[0m\n\u001b[0m                               ^\u001b[0m\n\u001b[0;31mSyntaxError\u001b[0m\u001b[0;31m:\u001b[0m invalid syntax\n"
     ]
    }
   ],
   "source": [
    "from sklearn.datsets import\n",
    "load_boston\n",
    "from sklearn.preprocessing import\n",
    "standardScaler,minimaxscaler\n",
    "\n",
    "def standardize_and_scale_boston():\n",
    "    # Load the Boston datsets\n",
    "    boston = load_boston()\n",
    "    x= boston.data\n",
    "    \n",
    "# Standarize the features\n",
    "scaler = standardscaler()\n",
    "x_standardizzed=scaler.fit_transform(x)\n",
    "\n",
    "# Scale the standarddized features\n",
    "minimax_scale = MinMaxScaler()\n",
    "x_scaled= minimax.fit_transform(s_stand ardized)\n",
    "\n",
    "return X_scaled\n",
    "\n",
    "#Usage\n",
    "scaled_boston_data = minimax_scaler.fit_transform(x_stand ardized)\n",
    "return x_scaled.fit_transform(x_stand ardized)"
   ]
  },
  {
   "cell_type": "code",
   "execution_count": null,
   "id": "f790f47b-d14a-4813-a0ad-fc1a6f5b6b57",
   "metadata": {},
   "outputs": [],
   "source": [
    "import math\n",
    "\n",
    "def euclidean_distance(point1,point2):\n",
    "    \"\"\"Calculate the Euclidean\n",
    "    distance between two points.\"\"\"\n",
    "    distance = math.squart(sum([x-y)**2 for x,y in zip(point1,point2)]))\n",
    "    return distance\n",
    "\n",
    "# Example usage\n",
    "point1"
   ]
  }
 ],
 "metadata": {
  "kernelspec": {
   "display_name": "Python 3 (ipykernel)",
   "language": "python",
   "name": "python3"
  },
  "language_info": {
   "codemirror_mode": {
    "name": "ipython",
    "version": 3
   },
   "file_extension": ".py",
   "mimetype": "text/x-python",
   "name": "python",
   "nbconvert_exporter": "python",
   "pygments_lexer": "ipython3",
   "version": "3.10.8"
  }
 },
 "nbformat": 4,
 "nbformat_minor": 5
}
